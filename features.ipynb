{
 "cells": [
  {
   "cell_type": "code",
   "execution_count": 1,
   "metadata": {
    "collapsed": true
   },
   "outputs": [],
   "source": [
    "import pickle\n",
    "import numpy as np\n",
    "import pdb"
   ]
  },
  {
   "cell_type": "code",
   "execution_count": 22,
   "metadata": {},
   "outputs": [
    {
     "data": {
      "image/png": "[encoded data removed]",
      "text/plain": [
       "<matplotlib.figure.Figure at 0x1097b4d68>"
      ]
     },
     "metadata": {},
     "output_type": "display_data"
    }
   ],
   "source": [
    "from scipy.stats import truncnorm\n",
    "import matplotlib.pyplot as plt\n",
    "f, ax = plt.subplots()\n",
    "rv = truncnorm.rvs(-2, 2, loc=0, scale=0.1, size=100000) + 0.2\n",
    "plt.hist(rv, bins='auto', range=(-0.3,0.6))\n",
    "plt.show()"
   ]
  },
  {
   "cell_type": "code",
   "execution_count": 24,
   "metadata": {},
   "outputs": [
    {
     "name": "stdout",
     "output_type": "stream",
     "text": [
      "[0 0 1 1 0 0 1 1 0 0]\n"
     ]
    }
   ],
   "source": [
    "from scipy.stats import bernoulli\n",
    "r = bernoulli.rvs(0.5, size=10)\n",
    "print(r)"
   ]
  },
  {
   "cell_type": "code",
   "execution_count": 2,
   "metadata": {},
   "outputs": [
    {
     "name": "stdout",
     "output_type": "stream",
     "text": [
      "['522878', '457594', '469218', '329525', '3234', '463121', '172890', '457611', '3100', '395388']\n",
      "['712593', '411111', '172692', '739968', '551760', '168029', '794503', '550431', '833017', '503689']\n",
      "['2015102810', 7, 1, 488.25, 17.28, '395388', 27.90421, 14.53051, '712593', 6.37316516284, '', '']\n"
     ]
    }
   ],
   "source": [
    "with open('top10_off_players.pickle','rb') as f:\n",
    "    top10_off_players = pickle.load(f)\n",
    "    top10_off_players = [item[0] for item in top10_off_players]\n",
    "    print(top10_off_players)\n",
    "with open('all_def_players_in_selected_poss_for_top10.pickle','rb') as f:\n",
    "    all_def_players = pickle.load(f)\n",
    "    print(all_def_players[:10])\n",
    "with open('poss_data_for_top10.pickle','rb') as f:\n",
    "    all_poss = pickle.load(f)\n",
    "    print(all_poss[0][0])"
   ]
  },
  {
   "cell_type": "code",
   "execution_count": 3,
   "metadata": {
    "collapsed": true
   },
   "outputs": [],
   "source": [
    "max_seq_length = 0\n",
    "for poss in all_poss:\n",
    "    max_seq_length = max(max_seq_length, len(poss))"
   ]
  },
  {
   "cell_type": "code",
   "execution_count": 4,
   "metadata": {},
   "outputs": [
    {
     "name": "stdout",
     "output_type": "stream",
     "text": [
      "50\n"
     ]
    }
   ],
   "source": [
    "print(max_seq_length)"
   ]
  },
  {
   "cell_type": "code",
   "execution_count": 5,
   "metadata": {
    "collapsed": true
   },
   "outputs": [],
   "source": [
    "def generate_player_index_lookup_dict(player_list, player_type):\n",
    "    index2player = {}\n",
    "    for i in range(1, len(player_list)+1):\n",
    "        index2player[i] = player_list[i-1]\n",
    "        \n",
    "    player2index = {}\n",
    "    for index, player in index2player.items():\n",
    "        player2index[player] = index\n",
    "    \n",
    "    if player_type == 'def':\n",
    "        index += 1\n",
    "        index2player[index] = ''\n",
    "        player2index[''] = index\n",
    "        \n",
    "    return player2index, index2player "
   ]
  },
  {
   "cell_type": "code",
   "execution_count": 6,
   "metadata": {},
   "outputs": [
    {
     "name": "stdout",
     "output_type": "stream",
     "text": [
      " {'522878': 1, '457594': 2, '469218': 3, '329525': 4, '3234': 5, '463121': 6, '172890': 7, '457611': 8, '3100': 9, '395388': 10} \n",
      " {1: '522878', 2: '457594', 3: '469218', 4: '329525', 5: '3234', 6: '463121', 7: '172890', 8: '457611', 9: '3100', 10: '395388'}\n"
     ]
    }
   ],
   "source": [
    "offplayer2index, index2offplayer = generate_player_index_lookup_dict(top10_off_players, 'off')\n",
    "print('', offplayer2index,'\\n',index2offplayer)"
   ]
  },
  {
   "cell_type": "code",
   "execution_count": 7,
   "metadata": {
    "scrolled": true
   },
   "outputs": [
    {
     "name": "stdout",
     "output_type": "stream",
     "text": [
      " {'712593': 1, '411111': 2, '172692': 3, '739968': 4, '551760': 5, '168029': 6, '794503': 7, '550431': 8, '833017': 9, '503689': 10, '837030': 11, '395391': 12, '512053': 13, '467468': 14, '174092': 15, '603100': 16, '502871': 17, '469085': 18, '3493': 19, '639311': 20, '398090': 21, '401085': 22, '329715': 23, '172997': 24, '329873': 25, '457576': 26, '603096': 27, '512591': 28, '3155': 29, '3508': 30, '57934': 31, '295922': 32, '292397': 33, '262890': 34, '599780': 35, '550049': 36, '599797': 37, '469218': 38, '277552': 39, '552805': 40, '172922': 41, '168051': 42, '266367': 43, '398142': 44, '511057': 45, '399725': 46, '410764': 47, '237675': 48, '280587': 49, '393436': 50, '552381': 51, '457605': 52, '697132': 53, '514882': 54, '398068': 55, '457611': 56, '173004': 57, '330421': 58, '329672': 59, '229738': 60, '609569': 61, '253980': 62, '748788': 63, '552523': 64, '553166': 65, '553575': 66, '229602': 67, '509449': 68, '509450': 69, '266358': 70, '398066': 71, '699950': 72, '262894': 73, '456453': 74, '477667': 75, '739966': 76, '330453': 77, '739960': 78, '502808': 79, '76032': 80, '616982': 81, '609256': 82, '168010': 83, '292408': 84, '606912': 85, '168013': 86, '400599': 87, '229792': 88, '295809': 89, '172537': 90, '551975': 91, '786412': 92, '174063': 93, '3234': 94, '172631': 95, '842298': 96, '513234': 97, '456448': 98, '877870': 99, '330347': 100, '609790': 101, '739957': 102, '329468': 103, '276755': 104, '548635': 105, '552007': 106, '329830': 107, '329524': 108, '456450': 109, '332691': 110, '253975': 111, '553574': 112, '398428': 113, '66903': 114, '743777': 115, '553158': 116, '266554': 117, '399599': 118, '173520': 119, '168061': 120, '65820': 121, '266394': 122, '844331': 123, '462444': 124, '602730': 125, '61934': 126, '214152': 127, '552679': 128, '3504': 129, '65834': 130, '172643': 131, '229598': 132, '659767': 133, '457598': 134, '552403': 135, '329525': 136, '679478': 137, '603106': 138, '605708': 139, '553306': 140, '512995': 141, '263884': 142, '602028': 143, '329824': 144, '340730': 145, '606731': 146, '253995': 147, '229569': 148, '61849': 149, '295927': 150, '840595': 151, '174025': 152, '263894': 153, '65871': 154, '262882': 155, '604898': 156, '295432': 157, '503779': 158, '462071': 159, '3235': 160, '399702': 161, '393434': 162, '513339': 163, '395374': 164, '172890': 165, '3100': 166, '329890': 167, '3321': 168, '292396': 169, '469089': 170, '58258': 171, '614746': 172, '660085': 173, '400585': 174, '295799': 175, '296605': 176, '509456': 177, '503807': 178, '253996': 179, '178537': 180, '750654': 181, '330047': 182, '3501': 183, '329185': 184, '698985': 185, '513268': 186, '699826': 187, '411562': 188, '214157': 189, '168058': 190, '3512': 191, '609567': 192, '456451': 193, '552980': 194, '842297': 195, '844038': 196, '603640': 197, '292401': 198, '214168': 199, '253997': 200, '552806': 201, '393441': 202, '296572': 203, '552336': 204, '338365': 205, '417020': 206, '229912': 207, '468895': 208, '292407': 209, '513607': 210, '522878': 211, '553573': 212, '830647': 213, '548610': 214, '510790': 215, '463121': 216, '395388': 217, '263217': 218, '3315': 219, '457688': 220, '842301': 221, '3388': 222, '601139': 223, '550991': 224, '398424': 225, '756880': 226, '329544': 227, '525052': 228, '609848': 229, '551787': 230, '509094': 231, '552183': 232, '458730': 233, '3494': 234, '599809': 235, '750703': 236, '292391': 237, '266369': 238, '786397': 239, '329887': 240, '609843': 241, '292394': 242, '329710': 243, '263228': 244, '550427': 245, '551321': 246, '263229': 247, '877869': 248, '296475': 249, '550131': 250, '462458': 251, '58293': 252, '329187': 253, '520388': 254, '398043': 255, '410831': 256, '295436': 257, '699947': 258, '263903': 259, '173407': 260, '843271': 261, '241712': 262, '278479': 263, '177575': 264, '292393': 265, '329711': 266, '278110': 267, '830650': 268, '395372': 269, '457594': 270, '402984': 271, '464841': 272, '456449': 273, '552305': 274, '3230': 275, '531447': 276, '254009': 277, '457186': 278, '659780': 279, '460833': 280, '65840': 281, '330057': 282, '329670': 283, '329683': 284, '330374': 285, '623253': 286, '599812': 287, '553184': 288, '695069': 289, '330050': 290, '509168': 291, '469234': 292, '513057': 293, '552530': 294, '263565': 295, '229905': 296, '296379': 297, '603095': 298, '254006': 299, '551768': 300, '168015': 301, '845564': 302, '467271': 303, '456456': 304, '699948': 305, '332695': 306, '609861': 307, '739958': 308, '553331': 309, '263899': 310, '398590': 311, '601538': 312, '698979': 313, '400617': 314, '843762': 315, '697722': 316, '411428': 317, '697720': 318, '553548': 319, '303807': 320, '504523': 321, '168066': 322, '477669': 323, '462745': 324, '398037': 325, '483372': 326, '57819': 327, '509169': 328, '462980': 329, '608661': 330, '554804': 331, '229726': 332, '395648': 333, '552335': 334, '400661': 335, '462461': 336, '214162': 337, '398443': 338, '845596': 339, '399612': 340, '66858': 341, '3385': 342, '599805': 343, '478196': 344, '880954': 345, '229649': 346, '552982': 347, '604288': 348, '395365': 349, '513526': 350, '66027': 351, '552319': 352, '3361': 353, '513606': 354, '697982': 355, '214163': 356, '551771': 357, '792338': 358, '555263': 359, '462970': 360, '3306': 361, '263028': 362, '75344': 363, '263231': 364, '405345': 365, '552599': 366, '552334': 367, '3313': 368, '57782': 369, '604734': 370, '463135': 371, '511055': 372, '744245': 373, '697173': 374, '553607': 375, '707829': 376, '168016': 377, '295420': 378, '552307': 379, '602135': 380, '553779': 381, '750924': 382, '457334': 383, '830642': 384, '410116': 385, '552309': 386, '': 387} \n",
      " {1: '712593', 2: '411111', 3: '172692', 4: '739968', 5: '551760', 6: '168029', 7: '794503', 8: '550431', 9: '833017', 10: '503689', 11: '837030', 12: '395391', 13: '512053', 14: '467468', 15: '174092', 16: '603100', 17: '502871', 18: '469085', 19: '3493', 20: '639311', 21: '398090', 22: '401085', 23: '329715', 24: '172997', 25: '329873', 26: '457576', 27: '603096', 28: '512591', 29: '3155', 30: '3508', 31: '57934', 32: '295922', 33: '292397', 34: '262890', 35: '599780', 36: '550049', 37: '599797', 38: '469218', 39: '277552', 40: '552805', 41: '172922', 42: '168051', 43: '266367', 44: '398142', 45: '511057', 46: '399725', 47: '410764', 48: '237675', 49: '280587', 50: '393436', 51: '552381', 52: '457605', 53: '697132', 54: '514882', 55: '398068', 56: '457611', 57: '173004', 58: '330421', 59: '329672', 60: '229738', 61: '609569', 62: '253980', 63: '748788', 64: '552523', 65: '553166', 66: '553575', 67: '229602', 68: '509449', 69: '509450', 70: '266358', 71: '398066', 72: '699950', 73: '262894', 74: '456453', 75: '477667', 76: '739966', 77: '330453', 78: '739960', 79: '502808', 80: '76032', 81: '616982', 82: '609256', 83: '168010', 84: '292408', 85: '606912', 86: '168013', 87: '400599', 88: '229792', 89: '295809', 90: '172537', 91: '551975', 92: '786412', 93: '174063', 94: '3234', 95: '172631', 96: '842298', 97: '513234', 98: '456448', 99: '877870', 100: '330347', 101: '609790', 102: '739957', 103: '329468', 104: '276755', 105: '548635', 106: '552007', 107: '329830', 108: '329524', 109: '456450', 110: '332691', 111: '253975', 112: '553574', 113: '398428', 114: '66903', 115: '743777', 116: '553158', 117: '266554', 118: '399599', 119: '173520', 120: '168061', 121: '65820', 122: '266394', 123: '844331', 124: '462444', 125: '602730', 126: '61934', 127: '214152', 128: '552679', 129: '3504', 130: '65834', 131: '172643', 132: '229598', 133: '659767', 134: '457598', 135: '552403', 136: '329525', 137: '679478', 138: '603106', 139: '605708', 140: '553306', 141: '512995', 142: '263884', 143: '602028', 144: '329824', 145: '340730', 146: '606731', 147: '253995', 148: '229569', 149: '61849', 150: '295927', 151: '840595', 152: '174025', 153: '263894', 154: '65871', 155: '262882', 156: '604898', 157: '295432', 158: '503779', 159: '462071', 160: '3235', 161: '399702', 162: '393434', 163: '513339', 164: '395374', 165: '172890', 166: '3100', 167: '329890', 168: '3321', 169: '292396', 170: '469089', 171: '58258', 172: '614746', 173: '660085', 174: '400585', 175: '295799', 176: '296605', 177: '509456', 178: '503807', 179: '253996', 180: '178537', 181: '750654', 182: '330047', 183: '3501', 184: '329185', 185: '698985', 186: '513268', 187: '699826', 188: '411562', 189: '214157', 190: '168058', 191: '3512', 192: '609567', 193: '456451', 194: '552980', 195: '842297', 196: '844038', 197: '603640', 198: '292401', 199: '214168', 200: '253997', 201: '552806', 202: '393441', 203: '296572', 204: '552336', 205: '338365', 206: '417020', 207: '229912', 208: '468895', 209: '292407', 210: '513607', 211: '522878', 212: '553573', 213: '830647', 214: '548610', 215: '510790', 216: '463121', 217: '395388', 218: '263217', 219: '3315', 220: '457688', 221: '842301', 222: '3388', 223: '601139', 224: '550991', 225: '398424', 226: '756880', 227: '329544', 228: '525052', 229: '609848', 230: '551787', 231: '509094', 232: '552183', 233: '458730', 234: '3494', 235: '599809', 236: '750703', 237: '292391', 238: '266369', 239: '786397', 240: '329887', 241: '609843', 242: '292394', 243: '329710', 244: '263228', 245: '550427', 246: '551321', 247: '263229', 248: '877869', 249: '296475', 250: '550131', 251: '462458', 252: '58293', 253: '329187', 254: '520388', 255: '398043', 256: '410831', 257: '295436', 258: '699947', 259: '263903', 260: '173407', 261: '843271', 262: '241712', 263: '278479', 264: '177575', 265: '292393', 266: '329711', 267: '278110', 268: '830650', 269: '395372', 270: '457594', 271: '402984', 272: '464841', 273: '456449', 274: '552305', 275: '3230', 276: '531447', 277: '254009', 278: '457186', 279: '659780', 280: '460833', 281: '65840', 282: '330057', 283: '329670', 284: '329683', 285: '330374', 286: '623253', 287: '599812', 288: '553184', 289: '695069', 290: '330050', 291: '509168', 292: '469234', 293: '513057', 294: '552530', 295: '263565', 296: '229905', 297: '296379', 298: '603095', 299: '254006', 300: '551768', 301: '168015', 302: '845564', 303: '467271', 304: '456456', 305: '699948', 306: '332695', 307: '609861', 308: '739958', 309: '553331', 310: '263899', 311: '398590', 312: '601538', 313: '698979', 314: '400617', 315: '843762', 316: '697722', 317: '411428', 318: '697720', 319: '553548', 320: '303807', 321: '504523', 322: '168066', 323: '477669', 324: '462745', 325: '398037', 326: '483372', 327: '57819', 328: '509169', 329: '462980', 330: '608661', 331: '554804', 332: '229726', 333: '395648', 334: '552335', 335: '400661', 336: '462461', 337: '214162', 338: '398443', 339: '845596', 340: '399612', 341: '66858', 342: '3385', 343: '599805', 344: '478196', 345: '880954', 346: '229649', 347: '552982', 348: '604288', 349: '395365', 350: '513526', 351: '66027', 352: '552319', 353: '3361', 354: '513606', 355: '697982', 356: '214163', 357: '551771', 358: '792338', 359: '555263', 360: '462970', 361: '3306', 362: '263028', 363: '75344', 364: '263231', 365: '405345', 366: '552599', 367: '552334', 368: '3313', 369: '57782', 370: '604734', 371: '463135', 372: '511055', 373: '744245', 374: '697173', 375: '553607', 376: '707829', 377: '168016', 378: '295420', 379: '552307', 380: '602135', 381: '553779', 382: '750924', 383: '457334', 384: '830642', 385: '410116', 386: '552309', 387: ''}\n"
     ]
    }
   ],
   "source": [
    "defplayer2index, index2defplayer = generate_player_index_lookup_dict(all_def_players, 'def')\n",
    "print('',defplayer2index, '\\n', index2defplayer)"
   ]
  },
  {
   "cell_type": "code",
   "execution_count": 8,
   "metadata": {
    "collapsed": true
   },
   "outputs": [],
   "source": [
    "def off_player_input_array(poss_data, player2index, max_seq_length):\n",
    "    off_player_input = np.zeros([len(poss_data), max_seq_length], dtype=np.int32)\n",
    "    for i,poss in enumerate(poss_data):\n",
    "        ball_handler = poss[0][5]\n",
    "        index = player2index[ball_handler]\n",
    "        len_one_poss = len(poss) - 1\n",
    "        off_player_input[i,:len_one_poss] = index\n",
    "        \n",
    "    return off_player_input"
   ]
  },
  {
   "cell_type": "code",
   "execution_count": 9,
   "metadata": {},
   "outputs": [
    {
     "name": "stdout",
     "output_type": "stream",
     "text": [
      "(3448, 49)\n"
     ]
    }
   ],
   "source": [
    "off_player_input = off_player_input_array(all_poss, offplayer2index, max_seq_length-1)\n",
    "print(off_player_input.shape)"
   ]
  },
  {
   "cell_type": "code",
   "execution_count": 10,
   "metadata": {
    "collapsed": true
   },
   "outputs": [],
   "source": [
    "def def_player_input_array(poss_data, player2index, max_seq_length):\n",
    "    def_player_input = np.zeros([len(poss_data), max_seq_length], dtype=np.int32)\n",
    "    for i,poss in enumerate(poss_data):\n",
    "        for j,moment in enumerate(poss[:-1]):\n",
    "            def_player = moment[8]\n",
    "            index = player2index[def_player]\n",
    "            def_player_input[i,j] = index\n",
    "        \n",
    "    return def_player_input"
   ]
  },
  {
   "cell_type": "code",
   "execution_count": 11,
   "metadata": {},
   "outputs": [
    {
     "name": "stdout",
     "output_type": "stream",
     "text": [
      "(3448, 49)\n"
     ]
    }
   ],
   "source": [
    "def_player_input = def_player_input_array(all_poss, defplayer2index, max_seq_length-1)\n",
    "print(def_player_input.shape)"
   ]
  },
  {
   "cell_type": "code",
   "execution_count": 12,
   "metadata": {
    "collapsed": true,
    "scrolled": true
   },
   "outputs": [],
   "source": [
    "def normalization_location(x, y, x_bounds=(0.0, 47.0, 94.0), y_bounds=(0.0, 50.0)):\n",
    "    \n",
    "    x = max(x, x_bounds[0])\n",
    "        \n",
    "    y = max(y, y_bounds[0])\n",
    "    y = min(y, y_bounds[1])\n",
    "    \n",
    "    if x > x_bounds[1]:\n",
    "        x = min(x, x_bounds[2])\n",
    "        x = x_bounds[2] - x\n",
    "        y = y_bounds[1] - y\n",
    "    \n",
    "    return x/x_bounds[1], y/y_bounds[1]"
   ]
  },
  {
   "cell_type": "code",
   "execution_count": 13,
   "metadata": {
    "collapsed": true
   },
   "outputs": [],
   "source": [
    "def normalization_shotclock(shot_clock, threshold=24.0):\n",
    "    return shot_clock/threshold"
   ]
  },
  {
   "cell_type": "code",
   "execution_count": 14,
   "metadata": {
    "collapsed": true
   },
   "outputs": [],
   "source": [
    "def normalization_distance(distance, threshold=10.0):\n",
    "    if distance == '' or distance == None:\n",
    "        print('open occurs')\n",
    "        return 1.0\n",
    "    else:\n",
    "        distance = distance\n",
    "        distance = min(distance, threshold)\n",
    "        return distance/threshold"
   ]
  },
  {
   "cell_type": "code",
   "execution_count": 15,
   "metadata": {
    "collapsed": true
   },
   "outputs": [],
   "source": [
    "def auxiliary_input_array(poss_data, max_seq_length, aux_data_len=4):\n",
    "    auxiliary_input = np.zeros([len(poss_data), max_seq_length, aux_data_len], dtype=np.float32)\n",
    "    for i,poss in enumerate(poss_data):\n",
    "        for j,moment in enumerate(poss[:-1]):\n",
    "            normalized_shotclock = normalization_shotclock(moment[4])\n",
    "            normalized_x, normalized_y = normalization_location(moment[6], moment[7])\n",
    "            normalized_distance = normalization_distance(moment[9])\n",
    "            auxiliary_input[i,j,:] = np.array([normalized_shotclock, normalized_x, normalized_y, normalized_distance])\n",
    "    return auxiliary_input"
   ]
  },
  {
   "cell_type": "code",
   "execution_count": 16,
   "metadata": {},
   "outputs": [
    {
     "name": "stdout",
     "output_type": "stream",
     "text": [
      "(3448, 49, 4)\n"
     ]
    }
   ],
   "source": [
    "auxiliary_input = auxiliary_input_array(all_poss, max_seq_length-1)\n",
    "print(auxiliary_input.shape)"
   ]
  },
  {
   "cell_type": "code",
   "execution_count": 17,
   "metadata": {},
   "outputs": [
    {
     "name": "stdout",
     "output_type": "stream",
     "text": [
      "0.0 1.0\n"
     ]
    }
   ],
   "source": [
    "print(np.min(auxiliary_input[:,:,3]), np.max(auxiliary_input[:,:,3]))"
   ]
  },
  {
   "cell_type": "code",
   "execution_count": 18,
   "metadata": {
    "collapsed": true
   },
   "outputs": [],
   "source": [
    "def generate_Y_dataset(poss_data, max_seq_length):\n",
    "    Y = np.zeros([len(poss_data), max_seq_length, 2], dtype=np.float32)\n",
    "    for i,poss in enumerate(poss_data):\n",
    "        for j,moment in enumerate(poss[1:]):\n",
    "            normalized_x, normalized_y = normalization_location(moment[6], moment[7])\n",
    "            Y[i,j,:] = np.array([normalized_x, normalized_y])\n",
    "    \n",
    "    return Y"
   ]
  },
  {
   "cell_type": "code",
   "execution_count": 19,
   "metadata": {},
   "outputs": [
    {
     "name": "stdout",
     "output_type": "stream",
     "text": [
      "(3448, 49, 2)\n"
     ]
    }
   ],
   "source": [
    "Y = generate_Y_dataset(all_poss, max_seq_length-1)\n",
    "print(Y.shape)"
   ]
  },
  {
   "cell_type": "code",
   "execution_count": 20,
   "metadata": {},
   "outputs": [
    {
     "name": "stdout",
     "output_type": "stream",
     "text": [
      "0.0 1.0\n"
     ]
    }
   ],
   "source": [
    "print(np.min(Y[:,:,1]), np.max(Y[:,:,1]))"
   ]
  },
  {
   "cell_type": "code",
   "execution_count": 21,
   "metadata": {},
   "outputs": [
    {
     "name": "stderr",
     "output_type": "stream",
     "text": [
      "Using TensorFlow backend.\n"
     ]
    }
   ],
   "source": [
    "from keras.models import Model\n",
    "from keras.layers import Input, Embedding, concatenate, Dense, Masking\n",
    "from keras.layers.recurrent import LSTM"
   ]
  },
  {
   "cell_type": "code",
   "execution_count": 47,
   "metadata": {
    "collapsed": true
   },
   "outputs": [],
   "source": [
    "offplayer_input = Input(shape=(max_seq_length-1,), dtype=np.int32, name='offplayer_input')"
   ]
  },
  {
   "cell_type": "code",
   "execution_count": 48,
   "metadata": {
    "collapsed": true
   },
   "outputs": [],
   "source": [
    "defplayer_input = Input(shape=(max_seq_length-1,), dtype=np.int32, name='defplayer_input')"
   ]
  },
  {
   "cell_type": "code",
   "execution_count": 49,
   "metadata": {
    "collapsed": true
   },
   "outputs": [],
   "source": [
    "aux_input = Input(shape=(max_seq_length-1,4), dtype=np.float32, name='aux_input')"
   ]
  },
  {
   "cell_type": "code",
   "execution_count": 50,
   "metadata": {
    "collapsed": true
   },
   "outputs": [],
   "source": [
    "off_x = Embedding(output_dim=25, input_dim=len(top10_off_players)+1, input_length=max_seq_length-1, mask_zero=True)(offplayer_input)"
   ]
  },
  {
   "cell_type": "code",
   "execution_count": 51,
   "metadata": {
    "collapsed": true
   },
   "outputs": [],
   "source": [
    "def_x = Embedding(output_dim=25, input_dim=len(all_def_players)+1, input_length=max_seq_length-1, mask_zero=True)(defplayer_input)"
   ]
  },
  {
   "cell_type": "code",
   "execution_count": 52,
   "metadata": {
    "collapsed": true
   },
   "outputs": [],
   "source": [
    "x = concatenate([off_x, def_x, aux_input])"
   ]
  },
  {
   "cell_type": "code",
   "execution_count": 53,
   "metadata": {
    "collapsed": true
   },
   "outputs": [],
   "source": [
    "x = Masking(mask_value=0.)(x)"
   ]
  },
  {
   "cell_type": "code",
   "execution_count": 54,
   "metadata": {
    "collapsed": true
   },
   "outputs": [],
   "source": [
    "x = LSTM(25, return_sequences=True)(x)"
   ]
  },
  {
   "cell_type": "code",
   "execution_count": 55,
   "metadata": {
    "collapsed": true
   },
   "outputs": [],
   "source": [
    "x = LSTM(25, return_sequences=True)(x)"
   ]
  },
  {
   "cell_type": "code",
   "execution_count": 56,
   "metadata": {
    "collapsed": true
   },
   "outputs": [],
   "source": [
    "output = Dense(2, activation='linear')(x)"
   ]
  },
  {
   "cell_type": "code",
   "execution_count": 57,
   "metadata": {
    "collapsed": true
   },
   "outputs": [],
   "source": [
    "model = Model(inputs=[offplayer_input, defplayer_input, aux_input], outputs=[output])"
   ]
  },
  {
   "cell_type": "code",
   "execution_count": 58,
   "metadata": {},
   "outputs": [
    {
     "name": "stdout",
     "output_type": "stream",
     "text": [
      "____________________________________________________________________________________________________\n",
      "Layer (type)                     Output Shape          Param #     Connected to                     \n",
      "====================================================================================================\n",
      "offplayer_input (InputLayer)     (None, 49)            0                                            \n",
      "____________________________________________________________________________________________________\n",
      "defplayer_input (InputLayer)     (None, 49)            0                                            \n",
      "____________________________________________________________________________________________________\n",
      "embedding_3 (Embedding)          (None, 49, 25)        275         offplayer_input[0][0]            \n",
      "____________________________________________________________________________________________________\n",
      "embedding_4 (Embedding)          (None, 49, 25)        9675        defplayer_input[0][0]            \n",
      "____________________________________________________________________________________________________\n",
      "aux_input (InputLayer)           (None, 49, 4)         0                                            \n",
      "____________________________________________________________________________________________________\n",
      "concatenate_2 (Concatenate)      (None, 49, 54)        0           embedding_3[0][0]                \n",
      "                                                                   embedding_4[0][0]                \n",
      "                                                                   aux_input[0][0]                  \n",
      "____________________________________________________________________________________________________\n",
      "masking_2 (Masking)              (None, 49, 54)        0           concatenate_2[0][0]              \n",
      "____________________________________________________________________________________________________\n",
      "lstm_3 (LSTM)                    (None, 49, 25)        8000        masking_2[0][0]                  \n",
      "____________________________________________________________________________________________________\n",
      "lstm_4 (LSTM)                    (None, 49, 25)        5100        lstm_3[0][0]                     \n",
      "____________________________________________________________________________________________________\n",
      "dense_2 (Dense)                  (None, 49, 2)         52          lstm_4[0][0]                     \n",
      "====================================================================================================\n",
      "Total params: 23,102\n",
      "Trainable params: 23,102\n",
      "Non-trainable params: 0\n",
      "____________________________________________________________________________________________________\n"
     ]
    }
   ],
   "source": [
    "model.summary()"
   ]
  },
  {
   "cell_type": "code",
   "execution_count": 59,
   "metadata": {
    "collapsed": true
   },
   "outputs": [],
   "source": [
    "model.compile(loss=\"mse\", optimizer=\"rmsprop\")"
   ]
  },
  {
   "cell_type": "code",
   "execution_count": 35,
   "metadata": {},
   "outputs": [
    {
     "name": "stdout",
     "output_type": "stream",
     "text": [
      "[1, 25, 94, 209, 293, 329, 370, 412, 512, 559, 587, 723, 859, 907, 914, 1021, 1197, 1275, 1289, 1305, 1394, 1429, 1540, 1549, 1701, 1726, 1734, 2028, 2055, 2103, 2183, 2192, 2235, 2316, 2351, 2355, 2419, 2508, 2516, 2563, 2604, 2639, 2719, 2761, 2811, 2979, 3086, 3108, 3122, 3417]\n"
     ]
    }
   ],
   "source": [
    "indices_disqualified_poss = []\n",
    "for i in range(off_player_input.shape[0]):\n",
    "    if np.sum((off_player_input[i,:]>0).astype(np.int)) < 5:\n",
    "        indices_disqualified_poss.append(i)\n",
    "print(indices_disqualified_poss)"
   ]
  },
  {
   "cell_type": "code",
   "execution_count": 36,
   "metadata": {
    "collapsed": true
   },
   "outputs": [],
   "source": [
    "indices_qualified_poss = [i for i in range(off_player_input.shape[0]) if i not in indices_disqualified_poss]"
   ]
  },
  {
   "cell_type": "code",
   "execution_count": 37,
   "metadata": {
    "collapsed": true
   },
   "outputs": [],
   "source": [
    "off_player_input = off_player_input[indices_qualified_poss]"
   ]
  },
  {
   "cell_type": "code",
   "execution_count": 38,
   "metadata": {
    "collapsed": true
   },
   "outputs": [],
   "source": [
    "def_player_input = def_player_input[indices_qualified_poss]"
   ]
  },
  {
   "cell_type": "code",
   "execution_count": 39,
   "metadata": {
    "collapsed": true
   },
   "outputs": [],
   "source": [
    "auxiliary_input = auxiliary_input[indices_qualified_poss]"
   ]
  },
  {
   "cell_type": "code",
   "execution_count": 40,
   "metadata": {
    "collapsed": true
   },
   "outputs": [],
   "source": [
    "Y = Y[indices_qualified_poss]"
   ]
  },
  {
   "cell_type": "code",
   "execution_count": 41,
   "metadata": {},
   "outputs": [
    {
     "name": "stdout",
     "output_type": "stream",
     "text": [
      "(3398, 49) (3398, 49) (3398, 49, 4) (3398, 49, 2)\n"
     ]
    }
   ],
   "source": [
    "print(off_player_input.shape, def_player_input.shape, auxiliary_input.shape, Y.shape)"
   ]
  },
  {
   "cell_type": "code",
   "execution_count": 42,
   "metadata": {
    "collapsed": true
   },
   "outputs": [],
   "source": [
    "# fix random seed for reproducibility\n",
    "import random\n",
    "random.seed(7)\n",
    "indices_for_test = random.sample(range(off_player_input.shape[0]), 398)\n",
    "Test_X_off, Test_X_def, Test_X_aux = off_player_input[indices_for_test], def_player_input[indices_for_test], auxiliary_input[indices_for_test] \n",
    "Test_Y = Y[indices_for_test]"
   ]
  },
  {
   "cell_type": "code",
   "execution_count": 43,
   "metadata": {
    "collapsed": true
   },
   "outputs": [],
   "source": [
    "indices_for_train_validation = [i for i in range(off_player_input.shape[0]) if i not in indices_for_test]"
   ]
  },
  {
   "cell_type": "code",
   "execution_count": 44,
   "metadata": {
    "collapsed": true
   },
   "outputs": [],
   "source": [
    "Train_X_off, Train_X_def, Train_X_aux = off_player_input[indices_for_train_validation], def_player_input[indices_for_train_validation], auxiliary_input[indices_for_train_validation]\n",
    "Train_Y = Y[indices_for_train_validation]"
   ]
  },
  {
   "cell_type": "code",
   "execution_count": 45,
   "metadata": {},
   "outputs": [
    {
     "data": {
      "text/plain": [
       "(3000, 49, 2)"
      ]
     },
     "execution_count": 45,
     "metadata": {},
     "output_type": "execute_result"
    }
   ],
   "source": [
    "Train_Y.shape"
   ]
  },
  {
   "cell_type": "code",
   "execution_count": 61,
   "metadata": {
    "scrolled": true
   },
   "outputs": [
    {
     "name": "stdout",
     "output_type": "stream",
     "text": [
      "Train on 2700 samples, validate on 300 samples\n",
      "Epoch 1/10\n",
      "2700/2700 [==============================] - 24s - loss: 4.9592e-04 - val_loss: 4.8344e-04\n",
      "Epoch 2/10\n",
      "2700/2700 [==============================] - 26s - loss: 4.2494e-04 - val_loss: 4.6680e-04\n",
      "Epoch 3/10\n",
      "  64/2700 [..............................] - ETA: 27s - loss: 4.3833e-04"
     ]
    },
    {
     "ename": "KeyboardInterrupt",
     "evalue": "",
     "output_type": "error",
     "traceback": [
      "\u001b[0;31m---------------------------------------------------------------------------\u001b[0m",
      "\u001b[0;31mKeyboardInterrupt\u001b[0m                         Traceback (most recent call last)",
      "\u001b[0;32m<ipython-input-61-a1719be5d801>\u001b[0m in \u001b[0;36m<module>\u001b[0;34m()\u001b[0m\n\u001b[0;32m----> 1\u001b[0;31m \u001b[0mmodel\u001b[0m\u001b[0;34m.\u001b[0m\u001b[0mfit\u001b[0m\u001b[0;34m(\u001b[0m\u001b[0;34m[\u001b[0m\u001b[0mTrain_X_off\u001b[0m\u001b[0;34m,\u001b[0m \u001b[0mTrain_X_def\u001b[0m\u001b[0;34m,\u001b[0m \u001b[0mTrain_X_aux\u001b[0m\u001b[0;34m]\u001b[0m\u001b[0;34m,\u001b[0m \u001b[0mTrain_Y\u001b[0m\u001b[0;34m,\u001b[0m \u001b[0mbatch_size\u001b[0m\u001b[0;34m=\u001b[0m\u001b[0;36m32\u001b[0m\u001b[0;34m,\u001b[0m \u001b[0mepochs\u001b[0m\u001b[0;34m=\u001b[0m\u001b[0;36m10\u001b[0m\u001b[0;34m,\u001b[0m \u001b[0mvalidation_split\u001b[0m\u001b[0;34m=\u001b[0m\u001b[0;36m0.1\u001b[0m\u001b[0;34m)\u001b[0m\u001b[0;34m\u001b[0m\u001b[0m\n\u001b[0m",
      "\u001b[0;32m/usr/local/lib/python3.6/site-packages/keras/engine/training.py\u001b[0m in \u001b[0;36mfit\u001b[0;34m(self, x, y, batch_size, epochs, verbose, callbacks, validation_split, validation_data, shuffle, class_weight, sample_weight, initial_epoch, **kwargs)\u001b[0m\n\u001b[1;32m   1428\u001b[0m                               \u001b[0mval_f\u001b[0m\u001b[0;34m=\u001b[0m\u001b[0mval_f\u001b[0m\u001b[0;34m,\u001b[0m \u001b[0mval_ins\u001b[0m\u001b[0;34m=\u001b[0m\u001b[0mval_ins\u001b[0m\u001b[0;34m,\u001b[0m \u001b[0mshuffle\u001b[0m\u001b[0;34m=\u001b[0m\u001b[0mshuffle\u001b[0m\u001b[0;34m,\u001b[0m\u001b[0;34m\u001b[0m\u001b[0m\n\u001b[1;32m   1429\u001b[0m                               \u001b[0mcallback_metrics\u001b[0m\u001b[0;34m=\u001b[0m\u001b[0mcallback_metrics\u001b[0m\u001b[0;34m,\u001b[0m\u001b[0;34m\u001b[0m\u001b[0m\n\u001b[0;32m-> 1430\u001b[0;31m                               initial_epoch=initial_epoch)\n\u001b[0m\u001b[1;32m   1431\u001b[0m \u001b[0;34m\u001b[0m\u001b[0m\n\u001b[1;32m   1432\u001b[0m     \u001b[0;32mdef\u001b[0m \u001b[0mevaluate\u001b[0m\u001b[0;34m(\u001b[0m\u001b[0mself\u001b[0m\u001b[0;34m,\u001b[0m \u001b[0mx\u001b[0m\u001b[0;34m,\u001b[0m \u001b[0my\u001b[0m\u001b[0;34m,\u001b[0m \u001b[0mbatch_size\u001b[0m\u001b[0;34m=\u001b[0m\u001b[0;36m32\u001b[0m\u001b[0;34m,\u001b[0m \u001b[0mverbose\u001b[0m\u001b[0;34m=\u001b[0m\u001b[0;36m1\u001b[0m\u001b[0;34m,\u001b[0m \u001b[0msample_weight\u001b[0m\u001b[0;34m=\u001b[0m\u001b[0;32mNone\u001b[0m\u001b[0;34m)\u001b[0m\u001b[0;34m:\u001b[0m\u001b[0;34m\u001b[0m\u001b[0m\n",
      "\u001b[0;32m/usr/local/lib/python3.6/site-packages/keras/engine/training.py\u001b[0m in \u001b[0;36m_fit_loop\u001b[0;34m(self, f, ins, out_labels, batch_size, epochs, verbose, callbacks, val_f, val_ins, shuffle, callback_metrics, initial_epoch)\u001b[0m\n\u001b[1;32m   1077\u001b[0m                 \u001b[0mbatch_logs\u001b[0m\u001b[0;34m[\u001b[0m\u001b[0;34m'size'\u001b[0m\u001b[0;34m]\u001b[0m \u001b[0;34m=\u001b[0m \u001b[0mlen\u001b[0m\u001b[0;34m(\u001b[0m\u001b[0mbatch_ids\u001b[0m\u001b[0;34m)\u001b[0m\u001b[0;34m\u001b[0m\u001b[0m\n\u001b[1;32m   1078\u001b[0m                 \u001b[0mcallbacks\u001b[0m\u001b[0;34m.\u001b[0m\u001b[0mon_batch_begin\u001b[0m\u001b[0;34m(\u001b[0m\u001b[0mbatch_index\u001b[0m\u001b[0;34m,\u001b[0m \u001b[0mbatch_logs\u001b[0m\u001b[0;34m)\u001b[0m\u001b[0;34m\u001b[0m\u001b[0m\n\u001b[0;32m-> 1079\u001b[0;31m                 \u001b[0mouts\u001b[0m \u001b[0;34m=\u001b[0m \u001b[0mf\u001b[0m\u001b[0;34m(\u001b[0m\u001b[0mins_batch\u001b[0m\u001b[0;34m)\u001b[0m\u001b[0;34m\u001b[0m\u001b[0m\n\u001b[0m\u001b[1;32m   1080\u001b[0m                 \u001b[0;32mif\u001b[0m \u001b[0;32mnot\u001b[0m \u001b[0misinstance\u001b[0m\u001b[0;34m(\u001b[0m\u001b[0mouts\u001b[0m\u001b[0;34m,\u001b[0m \u001b[0mlist\u001b[0m\u001b[0;34m)\u001b[0m\u001b[0;34m:\u001b[0m\u001b[0;34m\u001b[0m\u001b[0m\n\u001b[1;32m   1081\u001b[0m                     \u001b[0mouts\u001b[0m \u001b[0;34m=\u001b[0m \u001b[0;34m[\u001b[0m\u001b[0mouts\u001b[0m\u001b[0;34m]\u001b[0m\u001b[0;34m\u001b[0m\u001b[0m\n",
      "\u001b[0;32m/usr/local/lib/python3.6/site-packages/keras/backend/tensorflow_backend.py\u001b[0m in \u001b[0;36m__call__\u001b[0;34m(self, inputs)\u001b[0m\n\u001b[1;32m   2266\u001b[0m         updated = session.run(self.outputs + [self.updates_op],\n\u001b[1;32m   2267\u001b[0m                               \u001b[0mfeed_dict\u001b[0m\u001b[0;34m=\u001b[0m\u001b[0mfeed_dict\u001b[0m\u001b[0;34m,\u001b[0m\u001b[0;34m\u001b[0m\u001b[0m\n\u001b[0;32m-> 2268\u001b[0;31m                               **self.session_kwargs)\n\u001b[0m\u001b[1;32m   2269\u001b[0m         \u001b[0;32mreturn\u001b[0m \u001b[0mupdated\u001b[0m\u001b[0;34m[\u001b[0m\u001b[0;34m:\u001b[0m\u001b[0mlen\u001b[0m\u001b[0;34m(\u001b[0m\u001b[0mself\u001b[0m\u001b[0;34m.\u001b[0m\u001b[0moutputs\u001b[0m\u001b[0;34m)\u001b[0m\u001b[0;34m]\u001b[0m\u001b[0;34m\u001b[0m\u001b[0m\n\u001b[1;32m   2270\u001b[0m \u001b[0;34m\u001b[0m\u001b[0m\n",
      "\u001b[0;32m/usr/local/lib/python3.6/site-packages/tensorflow/python/client/session.py\u001b[0m in \u001b[0;36mrun\u001b[0;34m(self, fetches, feed_dict, options, run_metadata)\u001b[0m\n\u001b[1;32m    787\u001b[0m     \u001b[0;32mtry\u001b[0m\u001b[0;34m:\u001b[0m\u001b[0;34m\u001b[0m\u001b[0m\n\u001b[1;32m    788\u001b[0m       result = self._run(None, fetches, feed_dict, options_ptr,\n\u001b[0;32m--> 789\u001b[0;31m                          run_metadata_ptr)\n\u001b[0m\u001b[1;32m    790\u001b[0m       \u001b[0;32mif\u001b[0m \u001b[0mrun_metadata\u001b[0m\u001b[0;34m:\u001b[0m\u001b[0;34m\u001b[0m\u001b[0m\n\u001b[1;32m    791\u001b[0m         \u001b[0mproto_data\u001b[0m \u001b[0;34m=\u001b[0m \u001b[0mtf_session\u001b[0m\u001b[0;34m.\u001b[0m\u001b[0mTF_GetBuffer\u001b[0m\u001b[0;34m(\u001b[0m\u001b[0mrun_metadata_ptr\u001b[0m\u001b[0;34m)\u001b[0m\u001b[0;34m\u001b[0m\u001b[0m\n",
      "\u001b[0;32m/usr/local/lib/python3.6/site-packages/tensorflow/python/client/session.py\u001b[0m in \u001b[0;36m_run\u001b[0;34m(self, handle, fetches, feed_dict, options, run_metadata)\u001b[0m\n\u001b[1;32m    995\u001b[0m     \u001b[0;32mif\u001b[0m \u001b[0mfinal_fetches\u001b[0m \u001b[0;32mor\u001b[0m \u001b[0mfinal_targets\u001b[0m\u001b[0;34m:\u001b[0m\u001b[0;34m\u001b[0m\u001b[0m\n\u001b[1;32m    996\u001b[0m       results = self._do_run(handle, final_targets, final_fetches,\n\u001b[0;32m--> 997\u001b[0;31m                              feed_dict_string, options, run_metadata)\n\u001b[0m\u001b[1;32m    998\u001b[0m     \u001b[0;32melse\u001b[0m\u001b[0;34m:\u001b[0m\u001b[0;34m\u001b[0m\u001b[0m\n\u001b[1;32m    999\u001b[0m       \u001b[0mresults\u001b[0m \u001b[0;34m=\u001b[0m \u001b[0;34m[\u001b[0m\u001b[0;34m]\u001b[0m\u001b[0;34m\u001b[0m\u001b[0m\n",
      "\u001b[0;32m/usr/local/lib/python3.6/site-packages/tensorflow/python/client/session.py\u001b[0m in \u001b[0;36m_do_run\u001b[0;34m(self, handle, target_list, fetch_list, feed_dict, options, run_metadata)\u001b[0m\n\u001b[1;32m   1130\u001b[0m     \u001b[0;32mif\u001b[0m \u001b[0mhandle\u001b[0m \u001b[0;32mis\u001b[0m \u001b[0;32mNone\u001b[0m\u001b[0;34m:\u001b[0m\u001b[0;34m\u001b[0m\u001b[0m\n\u001b[1;32m   1131\u001b[0m       return self._do_call(_run_fn, self._session, feed_dict, fetch_list,\n\u001b[0;32m-> 1132\u001b[0;31m                            target_list, options, run_metadata)\n\u001b[0m\u001b[1;32m   1133\u001b[0m     \u001b[0;32melse\u001b[0m\u001b[0;34m:\u001b[0m\u001b[0;34m\u001b[0m\u001b[0m\n\u001b[1;32m   1134\u001b[0m       return self._do_call(_prun_fn, self._session, handle, feed_dict,\n",
      "\u001b[0;32m/usr/local/lib/python3.6/site-packages/tensorflow/python/client/session.py\u001b[0m in \u001b[0;36m_do_call\u001b[0;34m(self, fn, *args)\u001b[0m\n\u001b[1;32m   1137\u001b[0m   \u001b[0;32mdef\u001b[0m \u001b[0m_do_call\u001b[0m\u001b[0;34m(\u001b[0m\u001b[0mself\u001b[0m\u001b[0;34m,\u001b[0m \u001b[0mfn\u001b[0m\u001b[0;34m,\u001b[0m \u001b[0;34m*\u001b[0m\u001b[0margs\u001b[0m\u001b[0;34m)\u001b[0m\u001b[0;34m:\u001b[0m\u001b[0;34m\u001b[0m\u001b[0m\n\u001b[1;32m   1138\u001b[0m     \u001b[0;32mtry\u001b[0m\u001b[0;34m:\u001b[0m\u001b[0;34m\u001b[0m\u001b[0m\n\u001b[0;32m-> 1139\u001b[0;31m       \u001b[0;32mreturn\u001b[0m \u001b[0mfn\u001b[0m\u001b[0;34m(\u001b[0m\u001b[0;34m*\u001b[0m\u001b[0margs\u001b[0m\u001b[0;34m)\u001b[0m\u001b[0;34m\u001b[0m\u001b[0m\n\u001b[0m\u001b[1;32m   1140\u001b[0m     \u001b[0;32mexcept\u001b[0m \u001b[0merrors\u001b[0m\u001b[0;34m.\u001b[0m\u001b[0mOpError\u001b[0m \u001b[0;32mas\u001b[0m \u001b[0me\u001b[0m\u001b[0;34m:\u001b[0m\u001b[0;34m\u001b[0m\u001b[0m\n\u001b[1;32m   1141\u001b[0m       \u001b[0mmessage\u001b[0m \u001b[0;34m=\u001b[0m \u001b[0mcompat\u001b[0m\u001b[0;34m.\u001b[0m\u001b[0mas_text\u001b[0m\u001b[0;34m(\u001b[0m\u001b[0me\u001b[0m\u001b[0;34m.\u001b[0m\u001b[0mmessage\u001b[0m\u001b[0;34m)\u001b[0m\u001b[0;34m\u001b[0m\u001b[0m\n",
      "\u001b[0;32m/usr/local/lib/python3.6/site-packages/tensorflow/python/client/session.py\u001b[0m in \u001b[0;36m_run_fn\u001b[0;34m(session, feed_dict, fetch_list, target_list, options, run_metadata)\u001b[0m\n\u001b[1;32m   1119\u001b[0m         return tf_session.TF_Run(session, options,\n\u001b[1;32m   1120\u001b[0m                                  \u001b[0mfeed_dict\u001b[0m\u001b[0;34m,\u001b[0m \u001b[0mfetch_list\u001b[0m\u001b[0;34m,\u001b[0m \u001b[0mtarget_list\u001b[0m\u001b[0;34m,\u001b[0m\u001b[0;34m\u001b[0m\u001b[0m\n\u001b[0;32m-> 1121\u001b[0;31m                                  status, run_metadata)\n\u001b[0m\u001b[1;32m   1122\u001b[0m \u001b[0;34m\u001b[0m\u001b[0m\n\u001b[1;32m   1123\u001b[0m     \u001b[0;32mdef\u001b[0m \u001b[0m_prun_fn\u001b[0m\u001b[0;34m(\u001b[0m\u001b[0msession\u001b[0m\u001b[0;34m,\u001b[0m \u001b[0mhandle\u001b[0m\u001b[0;34m,\u001b[0m \u001b[0mfeed_dict\u001b[0m\u001b[0;34m,\u001b[0m \u001b[0mfetch_list\u001b[0m\u001b[0;34m)\u001b[0m\u001b[0;34m:\u001b[0m\u001b[0;34m\u001b[0m\u001b[0m\n",
      "\u001b[0;31mKeyboardInterrupt\u001b[0m: "
     ]
    }
   ],
   "source": [
    "model.fit([Train_X_off, Train_X_def, Train_X_aux], Train_Y, batch_size=32, epochs=10, validation_split=0.1)"
   ]
  },
  {
   "cell_type": "code",
   "execution_count": 62,
   "metadata": {},
   "outputs": [
    {
     "name": "stdout",
     "output_type": "stream",
     "text": [
      "398/398 [==============================] - 0s     \n"
     ]
    },
    {
     "data": {
      "text/plain": [
       "0.00042212446192139058"
      ]
     },
     "execution_count": 62,
     "metadata": {},
     "output_type": "execute_result"
    }
   ],
   "source": [
    "model.evaluate([Test_X_off, Test_X_def, Test_X_aux], Test_Y)"
   ]
  },
  {
   "cell_type": "code",
   "execution_count": null,
   "metadata": {
    "collapsed": true
   },
   "outputs": [],
   "source": []
  }
 ],
 "metadata": {
  "kernelspec": {
   "display_name": "Python 3",
   "language": "python",
   "name": "python3"
  },
  "language_info": {
   "codemirror_mode": {
    "name": "ipython",
    "version": 3
   },
   "file_extension": ".py",
   "mimetype": "text/x-python",
   "name": "python",
   "nbconvert_exporter": "python",
   "pygments_lexer": "ipython3",
   "version": "3.6.1"
  }
 },
 "nbformat": 4,
 "nbformat_minor": 2
}
